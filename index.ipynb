{
  "cells": [
    {
      "cell_type": "raw",
      "metadata": {},
      "source": [
        "---\n",
        "title: \"FMON Documentation\"\n",
        "---"
      ],
      "id": "ab519cd0"
    },
    {
      "cell_type": "markdown",
      "metadata": {},
      "source": [
        "Welcome to the documentation for Smear Lab's Freely Moving Olfactory Navigation (FMON) behavioral rig.\n",
        "\n",
        "The rig's hardware is controlled by a [Bpod](bpod.qmd) state machine running in MATLAB and receiving realtime input from [Bonsai](bonsai.qmd). All data related to trial state is recorded by Bpod, while all analog electrical signals (e.g. sniff signal) are recorded by Bonsai.\n",
        "\n",
        "The rig can be run either directly from the Bpod Console, or using a custom [GUI](gui.qmd) that was built with specific experiments in mind.\n"
      ],
      "id": "9edac521"
    },
    {
      "cell_type": "code",
      "metadata": {},
      "source": [
        "import plotly.io as pio\n",
        "pio.renderers.default = \"plotly_mimetype+notebook_connected\""
      ],
      "id": "1f0ccf86",
      "execution_count": null,
      "outputs": []
    },
    {
      "cell_type": "code",
      "metadata": {},
      "source": [
        "import plotly.express as px\n",
        "import plotly.io as pio\n",
        "df = px.data.iris()\n",
        "fig = px.scatter(df, x=\"sepal_width\", y=\"sepal_length\", \n",
        "                 color=\"species\", \n",
        "                 marginal_y=\"violin\", marginal_x=\"box\", \n",
        "                 trendline=\"ols\", template=\"simple_white\")\n",
        "fig.show()"
      ],
      "id": "f2959414",
      "execution_count": null,
      "outputs": []
    }
  ],
  "metadata": {
    "kernelspec": {
      "name": "python3",
      "language": "python",
      "display_name": "Python 3 (ipykernel)"
    }
  },
  "nbformat": 4,
  "nbformat_minor": 5
}